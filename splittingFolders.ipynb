{
 "cells": [
  {
   "cell_type": "code",
   "execution_count": 4,
   "id": "a89cc4dd",
   "metadata": {},
   "outputs": [
    {
     "name": "stderr",
     "output_type": "stream",
     "text": [
      "Copying files: 20200 files [00:07, 2818.18 files/s]\n"
     ]
    }
   ],
   "source": [
    "import os\n",
    "import os\n",
    "import splitfolders\n",
    "input_folder = \"/Users/thanhtran/Downloads/archive\"\n",
    "output = \"/Users/thanhtran/Desktop/cvfn\" #where you want the split datasets saved. one will be created if none is set\n",
    "# ratio of split are in order of train/val/test.\n",
    "#You can change to whatever you want. For train/val sets only, you could do .75, .25 for example.\n",
    "splitfolders.ratio(input_folder, output, seed=1337, ratio=(.70, 0, .30))"
   ]
  },
  {
   "cell_type": "code",
   "execution_count": null,
   "id": "e2852173",
   "metadata": {},
   "outputs": [],
   "source": []
  },
  {
   "cell_type": "code",
   "execution_count": null,
   "id": "3a4c8a91",
   "metadata": {},
   "outputs": [],
   "source": []
  }
 ],
 "metadata": {
  "kernelspec": {
   "display_name": "Python 3 (ipykernel)",
   "language": "python",
   "name": "python3"
  },
  "language_info": {
   "codemirror_mode": {
    "name": "ipython",
    "version": 3
   },
   "file_extension": ".py",
   "mimetype": "text/x-python",
   "name": "python",
   "nbconvert_exporter": "python",
   "pygments_lexer": "ipython3",
   "version": "3.9.13"
  }
 },
 "nbformat": 4,
 "nbformat_minor": 5
}
