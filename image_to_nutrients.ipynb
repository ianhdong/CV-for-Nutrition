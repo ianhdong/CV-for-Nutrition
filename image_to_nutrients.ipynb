{
 "cells": [
  {
   "cell_type": "code",
   "execution_count": 2,
   "id": "9f725b8b",
   "metadata": {},
   "outputs": [
    {
     "name": "stdout",
     "output_type": "stream",
     "text": [
      "Found 14140 images belonging to 101 classes.\n",
      "Found 6060 images belonging to 101 classes.\n",
      "Metal device set to: Apple M1 Pro\n"
     ]
    },
    {
     "name": "stderr",
     "output_type": "stream",
     "text": [
      "2023-04-25 20:25:09.419943: I tensorflow/core/common_runtime/pluggable_device/pluggable_device_factory.cc:305] Could not identify NUMA node of platform GPU ID 0, defaulting to 0. Your kernel may not have been built with NUMA support.\n",
      "2023-04-25 20:25:09.420086: I tensorflow/core/common_runtime/pluggable_device/pluggable_device_factory.cc:271] Created TensorFlow device (/job:localhost/replica:0/task:0/device:GPU:0 with 0 MB memory) -> physical PluggableDevice (device: 0, name: METAL, pci bus id: <undefined>)\n"
     ]
    }
   ],
   "source": [
    "import tensorflow as tf\n",
    "from tensorflow.keras.preprocessing.image import ImageDataGenerator\n",
    "from tensorflow.keras.applications import InceptionV3\n",
    "\n",
    "from tensorflow import keras\n",
    "from tensorflow.keras import layers\n",
    "from tensorflow.keras.models import Sequential\n",
    "from tensorflow.keras.layers import Dense, Activation, Dropout, Conv2D, MaxPool2D, GlobalAveragePooling2D\n",
    "\n",
    "from tensorflow.keras.optimizers import Adam\n",
    "\n",
    "from tensorflow.keras.callbacks import EarlyStopping, ModelCheckpoint\n",
    "\n",
    "data_gen = ImageDataGenerator(rotation_range=30, rescale=1./255, validation_split=0.2)\n",
    "\n",
    "image_size = (235, 235)\n",
    "train_gen = data_gen.flow_from_directory('train', target_size=image_size, shuffle=True, seed=42) # class_mode default categorical\n",
    "test_gen = data_gen.flow_from_directory('test', target_size=image_size, shuffle=False, seed=42) # default batch_size is 32\n",
    "\n",
    "input_shape = (235, 235, 3) # 235, 235 stands for w and h. The 3 stands for the three channels for RGB\n",
    "inception_model = InceptionV3(weights=\"imagenet\", input_shape=input_shape, include_top=False)\n",
    "\n",
    "inception_model.trainable = False # freeze weights\n",
    "\n",
    "model = Sequential()\n",
    "model.add(inception_model)\n",
    "model.add(GlobalAveragePooling2D()) \n",
    "model.add(Dense(128, activation=\"relu\")) # 64 units\n",
    "model.add(Dense(128, activation=\"relu\")) # added another layer\n",
    "model.add(Dense(128, activation=\"relu\")) # added a third layer\n",
    "model.add(Dense(128, activation=\"relu\")) # added a fourth layer\n",
    "model.add(Dropout(0.2))\n",
    "model.add(Dense(101, activation='softmax'))\n",
    "\n",
    "model.compile(optimizer='adam', loss='categorical_crossentropy', metrics=['accuracy'])\n",
    "\n",
    "earlystopping = EarlyStopping(min_delta=0.001, patience=5, restore_best_weights=True)\n",
    "\n",
    "checkpoint = ModelCheckpoint(filepath='food_model.hdf5', verbose=1, save_best_only=True, save_weights_only=True)"
   ]
  },
  {
   "cell_type": "code",
   "execution_count": 3,
   "id": "8b75f1eb",
   "metadata": {},
   "outputs": [],
   "source": [
    "model.load_weights('food_model.hdf5')"
   ]
  },
  {
   "cell_type": "code",
   "execution_count": 4,
   "id": "510dbccb",
   "metadata": {},
   "outputs": [
    {
     "name": "stderr",
     "output_type": "stream",
     "text": [
      "2023-04-25 20:25:16.900390: W tensorflow/core/platform/profile_utils/cpu_utils.cc:128] Failed to get CPU frequency: 0 Hz\n",
      "2023-04-25 20:25:17.484072: I tensorflow/core/grappler/optimizers/custom_graph_optimizer_registry.cc:113] Plugin optimizer for device_type GPU is enabled.\n"
     ]
    },
    {
     "name": "stdout",
     "output_type": "stream",
     "text": [
      "1/1 [==============================] - 3s 3s/step\n",
      "[62]\n",
      "Predicted class label:  macaroni_and_cheese\n"
     ]
    }
   ],
   "source": [
    "import requests\n",
    "import json\n",
    "import pandas as pd\n",
    "\n",
    "import numpy as np\n",
    "from keras.preprocessing import image\n",
    "from keras.applications.inception_v3 import preprocess_input\n",
    "from keras.models import load_model\n",
    "from PIL import Image\n",
    "\n",
    "import re\n",
    "\n",
    "# Load the trained model\n",
    "# replace with the path to your trained model\n",
    "\n",
    "# Load and preprocess the image\n",
    "#img_path = '/test/fried_rice/490569.jpg'  # replace with the path to your image\n",
    "#img = image.load_img(img_path, target_size=(235, 235))  # assuming image size of (224, 224)\n",
    "#x = image.img_to_array(img)\n",
    "#x = np.expand_dims(x, axis=0)\n",
    "#x = preprocess_input(x)\n",
    "\n",
    "image_size = (235, 235)\n",
    "#x = data_gen.flow_from_directory('/Users/thanhtran/Desktop/cvfn/test', target_size=image_size, shuffle=False, seed=42)\n",
    "x = Image.open(\"/Users/thanhtran/Desktop/cvfn/test/macaroni_and_cheese/142958.jpg\")\n",
    "#if x.mode != 'RGB':\n",
    "#    x = x.convert('RGB')\n",
    "x = x.resize((image_size))\n",
    "x.show()\n",
    "x = np.array(x)\n",
    "x = np.expand_dims(x, axis=0)\n",
    "x = preprocess_input(x)\n",
    "                   \n",
    "# Make a prediction\n",
    "predictions = model.predict(x)\n",
    "#print(predictions)\n",
    "predicted_class_indices = np.argmax(predictions, axis=1)\n",
    "print(predicted_class_indices)\n",
    "\n",
    "# Get the label of the predicted class\n",
    "class_indices = test_gen.class_indices\n",
    "#print(class_indices)\n",
    "labels = dict((v, k) for k, v in class_indices.items())\n",
    "predicted_label = labels[predicted_class_indices[0]]\n",
    "\n",
    "print(\"Predicted class label: \", predicted_label)"
   ]
  },
  {
   "cell_type": "code",
   "execution_count": 5,
   "id": "70425dc9",
   "metadata": {},
   "outputs": [
    {
     "name": "stdout",
     "output_type": "stream",
     "text": [
      "200\n",
      "MACARONI AND CHEESE\n",
      "Protein 3.53\n",
      "Total lipid (fat) 2.35\n",
      "Carbohydrate, by difference 18.0\n",
      "Energy 110\n",
      "Sugars, total including NLEA 1.96\n",
      "Fiber, total dietary 0.0\n",
      "Calcium, Ca 41.0\n",
      "Iron, Fe 0.78\n",
      "Potassium, K 95.0\n",
      "Sodium, Na 451\n",
      "Vitamin D (D2 + D3), International Units 0.0\n",
      "Cholesterol 4.0\n",
      "Fatty acids, total trans 0.0\n",
      "Fatty acids, total saturated 0.78\n"
     ]
    }
   ],
   "source": [
    "def call_API(foodName, apiKey):\n",
    "    url = f'https://api.nal.usda.gov/fdc/v1/foods/search?api_key={apiKey}&query={foodName}'\n",
    "    r = requests.get(url)\n",
    "    print(r.status_code)  # 200\n",
    "    return r.json()\n",
    "\n",
    "\n",
    "def call_API_2(foodName, apiKey):\n",
    "    data = {\"query\" : foodName}\n",
    "    url = f'https://api.nal.usda.gov/fdc/v1/foods/search?api_key={apiKey}'\n",
    "    r = requests.post(url, json=data)\n",
    "    print(r.status_code)  # 200\n",
    "    return r.json()\n",
    "\n",
    "food = re.sub('[^0-9a-zA-Z]+', ' ', predicted_label)\n",
    "ans = call_API_2(food, \"Xie5HhhZC8t038z0mUi2Ae9zasyNfTiYFTxttouA\")\n",
    "\n",
    "#print(type(ans))\n",
    "\n",
    "table = pd.DataFrame(ans['foods'])\n",
    "foodNutrients = table.iloc[0]['foodNutrients']\n",
    "print(table.iloc[0]['description'])\n",
    "for i in foodNutrients:\n",
    "  print(i['nutrientName'], i['value'])"
   ]
  }
 ],
 "metadata": {
  "kernelspec": {
   "display_name": "Python 3 (ipykernel)",
   "language": "python",
   "name": "python3"
  },
  "language_info": {
   "codemirror_mode": {
    "name": "ipython",
    "version": 3
   },
   "file_extension": ".py",
   "mimetype": "text/x-python",
   "name": "python",
   "nbconvert_exporter": "python",
   "pygments_lexer": "ipython3",
   "version": "3.9.13"
  }
 },
 "nbformat": 4,
 "nbformat_minor": 5
}
